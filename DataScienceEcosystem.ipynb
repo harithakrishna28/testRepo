{
 "cells": [
  {
   "cell_type": "markdown",
   "id": "24d81f34-3826-4e71-ba7a-ac50346ae784",
   "metadata": {},
   "source": [
    "# Data Science Tools and Ecosystem"
   ]
  },
  {
   "cell_type": "markdown",
   "id": "c3f6b383-16a7-4d1c-8d3a-47ce7b9bf6e7",
   "metadata": {},
   "source": [
    "## In this notebook, Data Science Tools and Ecosystem are summarized."
   ]
  },
  {
   "cell_type": "markdown",
   "id": "c6224e73-c864-4197-af8b-33a5c0186123",
   "metadata": {},
   "source": [
    "**Objectives:**\n",
    "### List popular languages for Data Science\n",
    "- python\n",
    "- sql\n",
    "- R"
   ]
  },
  {
   "cell_type": "markdown",
   "id": "1161f4bc-911a-481b-96fc-33260f59472c",
   "metadata": {},
   "source": [
    "### Some of the popular languages that Data Scientists use are:\n",
    "1. python\n",
    "2. R\n",
    "3. Sql"
   ]
  },
  {
   "cell_type": "markdown",
   "id": "62defe9b-3b39-4a0b-bd25-4e4cd21351e8",
   "metadata": {},
   "source": [
    "### Some of the commonly used libraries used by Data Scientists include:\n",
    "1. python libraries\n",
    "2. Apache spark\n",
    "3. Scala Libraries\n",
    "4. R libraries"
   ]
  },
  {
   "cell_type": "markdown",
   "id": "40e3c0c6-56f5-4a59-a394-deaee0254f58",
   "metadata": {},
   "source": [
    "Data Science Tools|\n",
    "----------------------\n",
    "Data Management|\n",
    "Data integration and transformation|\n",
    "Data visualization|"
   ]
  },
  {
   "cell_type": "markdown",
   "id": "05cc323e-c81e-48d9-85da-ad29f49b7a5d",
   "metadata": {},
   "source": [
    "### Below are a few examples of evaluating arithmetic expressions in Python"
   ]
  },
  {
   "cell_type": "code",
   "execution_count": 1,
   "id": "571d081c-ab35-4c7b-9d71-a6ceed19af7e",
   "metadata": {
    "tags": []
   },
   "outputs": [
    {
     "data": {
      "text/plain": [
       "17"
      ]
     },
     "execution_count": 1,
     "metadata": {},
     "output_type": "execute_result"
    }
   ],
   "source": [
    "#This a simple arithmetic expression to mutiply then add integers\n",
    "(3*4)+5"
   ]
  },
  {
   "cell_type": "code",
   "execution_count": 2,
   "id": "ea28b8c3-10c7-47ed-ad87-7f4f9e3ae55a",
   "metadata": {
    "tags": []
   },
   "outputs": [
    {
     "data": {
      "text/plain": [
       "3.3333333333333335"
      ]
     },
     "execution_count": 2,
     "metadata": {},
     "output_type": "execute_result"
    }
   ],
   "source": [
    "#This will convert 200 minutes to hours by diving by 60\n",
    "200/60"
   ]
  },
  {
   "cell_type": "markdown",
   "id": "50899dab-4b23-47c6-96de-d029dae8c301",
   "metadata": {},
   "source": [
    "## Author\n",
    "#### Haritha Krishna"
   ]
  },
  {
   "cell_type": "code",
   "execution_count": null,
   "id": "523240dd-6692-4782-9ba5-0789d81c2c25",
   "metadata": {},
   "outputs": [],
   "source": []
  }
 ],
 "metadata": {
  "kernelspec": {
   "display_name": "Python",
   "language": "python",
   "name": "conda-env-python-py"
  },
  "language_info": {
   "codemirror_mode": {
    "name": "ipython",
    "version": 3
   },
   "file_extension": ".py",
   "mimetype": "text/x-python",
   "name": "python",
   "nbconvert_exporter": "python",
   "pygments_lexer": "ipython3",
   "version": "3.7.12"
  }
 },
 "nbformat": 4,
 "nbformat_minor": 5
}
